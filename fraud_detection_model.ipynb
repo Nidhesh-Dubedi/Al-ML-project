{
 "cells": [
  {
   "cell_type": "markdown",
   "id": "1d2aa94d-5bea-4974-8b04-c7108347d4b8",
   "metadata": {
    "panel-layout": {
     "height": 254.68057250976562,
     "visible": true,
     "width": 100
    }
   },
   "source": [
    "# Fraud Detection using Random Forest\n",
    "This notebook demonstrates the complete pipeline for detecting fraudulent transactions using RandomForestClassifier. It includes:\n",
    "- Data loading and exploration\n",
    "- Stratified sampling\n",
    "- Preprocessing with ColumnTransformer\n",
    "- Model training and saving\n",
    "- Inference and evaluation\n",
    "\n",
    "**Python version**: 3.12.7 \n",
    "**Scikit-learn version**: 1.4.2 \n",
    "**Joblib version**: 1.5.1\n",
    "\n"
   ]
  },
  {
   "cell_type": "code",
   "execution_count": 1,
   "id": "2780769e-f235-4303-9e98-cfbc8cca4757",
   "metadata": {},
   "outputs": [],
   "source": [
    "# === Import all required libraries ===\n",
    "import os \n",
    "import numpy as np\n",
    "import joblib\n",
    "import pandas as pd\n",
    "import seaborn as sns\n",
    "import matplotlib.pyplot as plt\n",
    "from sklearn.impute import SimpleImputer\n",
    "from sklearn.preprocessing import StandardScaler\n",
    "from sklearn.model_selection import StratifiedShuffleSplit\n",
    "from scipy import stats\n",
    "from sklearn.preprocessing import OneHotEncoder\n",
    "from sklearn.compose import ColumnTransformer\n",
    "from sklearn.ensemble import RandomForestClassifier\n",
    "from sklearn.pipeline import Pipeline\n",
    "from sklearn.metrics import classification_report, confusion_matrix, roc_auc_score,accuracy_score\n",
    "\n"
   ]
  },
  {
   "cell_type": "markdown",
   "id": "b268e39d-cbae-44a1-bc78-af6c0b626b27",
   "metadata": {
    "panel-layout": {
     "height": 84.40277862548828,
     "visible": true,
     "width": 100
    }
   },
   "source": [
    "## Load and Visualize Dataset\n",
    "We begin by loading the fraud transaction dataset and exploring key characteristics."
   ]
  },
  {
   "cell_type": "code",
   "execution_count": 4,
   "id": "109121e6-3d35-4ea8-a2cd-828950b3cb1f",
   "metadata": {},
   "outputs": [],
   "source": [
    "df = pd.read_csv(\"Fraud.csv\")"
   ]
  },
  {
   "cell_type": "code",
   "execution_count": 5,
   "id": "5715f689-a31b-4cae-aa15-440cd62fc620",
   "metadata": {
    "panel-layout": {
     "height": 289.5555725097656,
     "visible": true,
     "width": 100
    }
   },
   "outputs": [
    {
     "data": {
      "text/html": [
       "<div>\n",
       "<style scoped>\n",
       "    .dataframe tbody tr th:only-of-type {\n",
       "        vertical-align: middle;\n",
       "    }\n",
       "\n",
       "    .dataframe tbody tr th {\n",
       "        vertical-align: top;\n",
       "    }\n",
       "\n",
       "    .dataframe thead th {\n",
       "        text-align: right;\n",
       "    }\n",
       "</style>\n",
       "<table border=\"1\" class=\"dataframe\">\n",
       "  <thead>\n",
       "    <tr style=\"text-align: right;\">\n",
       "      <th></th>\n",
       "      <th>step</th>\n",
       "      <th>type</th>\n",
       "      <th>amount</th>\n",
       "      <th>nameOrig</th>\n",
       "      <th>oldbalanceOrg</th>\n",
       "      <th>newbalanceOrig</th>\n",
       "      <th>nameDest</th>\n",
       "      <th>oldbalanceDest</th>\n",
       "      <th>newbalanceDest</th>\n",
       "      <th>isFraud</th>\n",
       "      <th>isFlaggedFraud</th>\n",
       "    </tr>\n",
       "  </thead>\n",
       "  <tbody>\n",
       "    <tr>\n",
       "      <th>0</th>\n",
       "      <td>1</td>\n",
       "      <td>PAYMENT</td>\n",
       "      <td>9839.64</td>\n",
       "      <td>C1231006815</td>\n",
       "      <td>170136.00</td>\n",
       "      <td>160296.36</td>\n",
       "      <td>M1979787155</td>\n",
       "      <td>0.0</td>\n",
       "      <td>0.00</td>\n",
       "      <td>0</td>\n",
       "      <td>0</td>\n",
       "    </tr>\n",
       "    <tr>\n",
       "      <th>1</th>\n",
       "      <td>1</td>\n",
       "      <td>PAYMENT</td>\n",
       "      <td>1864.28</td>\n",
       "      <td>C1666544295</td>\n",
       "      <td>21249.00</td>\n",
       "      <td>19384.72</td>\n",
       "      <td>M2044282225</td>\n",
       "      <td>0.0</td>\n",
       "      <td>0.00</td>\n",
       "      <td>0</td>\n",
       "      <td>0</td>\n",
       "    </tr>\n",
       "    <tr>\n",
       "      <th>2</th>\n",
       "      <td>1</td>\n",
       "      <td>TRANSFER</td>\n",
       "      <td>181.00</td>\n",
       "      <td>C1305486145</td>\n",
       "      <td>181.00</td>\n",
       "      <td>0.00</td>\n",
       "      <td>C553264065</td>\n",
       "      <td>0.0</td>\n",
       "      <td>0.00</td>\n",
       "      <td>1</td>\n",
       "      <td>0</td>\n",
       "    </tr>\n",
       "    <tr>\n",
       "      <th>3</th>\n",
       "      <td>1</td>\n",
       "      <td>CASH_OUT</td>\n",
       "      <td>181.00</td>\n",
       "      <td>C840083671</td>\n",
       "      <td>181.00</td>\n",
       "      <td>0.00</td>\n",
       "      <td>C38997010</td>\n",
       "      <td>21182.0</td>\n",
       "      <td>0.00</td>\n",
       "      <td>1</td>\n",
       "      <td>0</td>\n",
       "    </tr>\n",
       "    <tr>\n",
       "      <th>4</th>\n",
       "      <td>1</td>\n",
       "      <td>PAYMENT</td>\n",
       "      <td>11668.14</td>\n",
       "      <td>C2048537720</td>\n",
       "      <td>41554.00</td>\n",
       "      <td>29885.86</td>\n",
       "      <td>M1230701703</td>\n",
       "      <td>0.0</td>\n",
       "      <td>0.00</td>\n",
       "      <td>0</td>\n",
       "      <td>0</td>\n",
       "    </tr>\n",
       "    <tr>\n",
       "      <th>5</th>\n",
       "      <td>1</td>\n",
       "      <td>PAYMENT</td>\n",
       "      <td>7817.71</td>\n",
       "      <td>C90045638</td>\n",
       "      <td>53860.00</td>\n",
       "      <td>46042.29</td>\n",
       "      <td>M573487274</td>\n",
       "      <td>0.0</td>\n",
       "      <td>0.00</td>\n",
       "      <td>0</td>\n",
       "      <td>0</td>\n",
       "    </tr>\n",
       "    <tr>\n",
       "      <th>6</th>\n",
       "      <td>1</td>\n",
       "      <td>PAYMENT</td>\n",
       "      <td>7107.77</td>\n",
       "      <td>C154988899</td>\n",
       "      <td>183195.00</td>\n",
       "      <td>176087.23</td>\n",
       "      <td>M408069119</td>\n",
       "      <td>0.0</td>\n",
       "      <td>0.00</td>\n",
       "      <td>0</td>\n",
       "      <td>0</td>\n",
       "    </tr>\n",
       "    <tr>\n",
       "      <th>7</th>\n",
       "      <td>1</td>\n",
       "      <td>PAYMENT</td>\n",
       "      <td>7861.64</td>\n",
       "      <td>C1912850431</td>\n",
       "      <td>176087.23</td>\n",
       "      <td>168225.59</td>\n",
       "      <td>M633326333</td>\n",
       "      <td>0.0</td>\n",
       "      <td>0.00</td>\n",
       "      <td>0</td>\n",
       "      <td>0</td>\n",
       "    </tr>\n",
       "    <tr>\n",
       "      <th>8</th>\n",
       "      <td>1</td>\n",
       "      <td>PAYMENT</td>\n",
       "      <td>4024.36</td>\n",
       "      <td>C1265012928</td>\n",
       "      <td>2671.00</td>\n",
       "      <td>0.00</td>\n",
       "      <td>M1176932104</td>\n",
       "      <td>0.0</td>\n",
       "      <td>0.00</td>\n",
       "      <td>0</td>\n",
       "      <td>0</td>\n",
       "    </tr>\n",
       "    <tr>\n",
       "      <th>9</th>\n",
       "      <td>1</td>\n",
       "      <td>DEBIT</td>\n",
       "      <td>5337.77</td>\n",
       "      <td>C712410124</td>\n",
       "      <td>41720.00</td>\n",
       "      <td>36382.23</td>\n",
       "      <td>C195600860</td>\n",
       "      <td>41898.0</td>\n",
       "      <td>40348.79</td>\n",
       "      <td>0</td>\n",
       "      <td>0</td>\n",
       "    </tr>\n",
       "  </tbody>\n",
       "</table>\n",
       "</div>"
      ],
      "text/plain": [
       "   step      type    amount     nameOrig  oldbalanceOrg  newbalanceOrig  \\\n",
       "0     1   PAYMENT   9839.64  C1231006815      170136.00       160296.36   \n",
       "1     1   PAYMENT   1864.28  C1666544295       21249.00        19384.72   \n",
       "2     1  TRANSFER    181.00  C1305486145         181.00            0.00   \n",
       "3     1  CASH_OUT    181.00   C840083671         181.00            0.00   \n",
       "4     1   PAYMENT  11668.14  C2048537720       41554.00        29885.86   \n",
       "5     1   PAYMENT   7817.71    C90045638       53860.00        46042.29   \n",
       "6     1   PAYMENT   7107.77   C154988899      183195.00       176087.23   \n",
       "7     1   PAYMENT   7861.64  C1912850431      176087.23       168225.59   \n",
       "8     1   PAYMENT   4024.36  C1265012928        2671.00            0.00   \n",
       "9     1     DEBIT   5337.77   C712410124       41720.00        36382.23   \n",
       "\n",
       "      nameDest  oldbalanceDest  newbalanceDest  isFraud  isFlaggedFraud  \n",
       "0  M1979787155             0.0            0.00        0               0  \n",
       "1  M2044282225             0.0            0.00        0               0  \n",
       "2   C553264065             0.0            0.00        1               0  \n",
       "3    C38997010         21182.0            0.00        1               0  \n",
       "4  M1230701703             0.0            0.00        0               0  \n",
       "5   M573487274             0.0            0.00        0               0  \n",
       "6   M408069119             0.0            0.00        0               0  \n",
       "7   M633326333             0.0            0.00        0               0  \n",
       "8  M1176932104             0.0            0.00        0               0  \n",
       "9   C195600860         41898.0        40348.79        0               0  "
      ]
     },
     "execution_count": 5,
     "metadata": {},
     "output_type": "execute_result"
    }
   ],
   "source": [
    "df.head(10)"
   ]
  },
  {
   "cell_type": "code",
   "execution_count": 6,
   "id": "1279332a-7994-49e3-a883-5571d735345b",
   "metadata": {
    "panel-layout": {
     "height": 289.5555725097656,
     "visible": true,
     "width": 100
    }
   },
   "outputs": [
    {
     "data": {
      "text/html": [
       "<div>\n",
       "<style scoped>\n",
       "    .dataframe tbody tr th:only-of-type {\n",
       "        vertical-align: middle;\n",
       "    }\n",
       "\n",
       "    .dataframe tbody tr th {\n",
       "        vertical-align: top;\n",
       "    }\n",
       "\n",
       "    .dataframe thead th {\n",
       "        text-align: right;\n",
       "    }\n",
       "</style>\n",
       "<table border=\"1\" class=\"dataframe\">\n",
       "  <thead>\n",
       "    <tr style=\"text-align: right;\">\n",
       "      <th></th>\n",
       "      <th>step</th>\n",
       "      <th>type</th>\n",
       "      <th>amount</th>\n",
       "      <th>nameOrig</th>\n",
       "      <th>oldbalanceOrg</th>\n",
       "      <th>newbalanceOrig</th>\n",
       "      <th>nameDest</th>\n",
       "      <th>oldbalanceDest</th>\n",
       "      <th>newbalanceDest</th>\n",
       "      <th>isFraud</th>\n",
       "      <th>isFlaggedFraud</th>\n",
       "    </tr>\n",
       "  </thead>\n",
       "  <tbody>\n",
       "    <tr>\n",
       "      <th>6362610</th>\n",
       "      <td>742</td>\n",
       "      <td>TRANSFER</td>\n",
       "      <td>63416.99</td>\n",
       "      <td>C778071008</td>\n",
       "      <td>63416.99</td>\n",
       "      <td>0.0</td>\n",
       "      <td>C1812552860</td>\n",
       "      <td>0.00</td>\n",
       "      <td>0.00</td>\n",
       "      <td>1</td>\n",
       "      <td>0</td>\n",
       "    </tr>\n",
       "    <tr>\n",
       "      <th>6362611</th>\n",
       "      <td>742</td>\n",
       "      <td>CASH_OUT</td>\n",
       "      <td>63416.99</td>\n",
       "      <td>C994950684</td>\n",
       "      <td>63416.99</td>\n",
       "      <td>0.0</td>\n",
       "      <td>C1662241365</td>\n",
       "      <td>276433.18</td>\n",
       "      <td>339850.17</td>\n",
       "      <td>1</td>\n",
       "      <td>0</td>\n",
       "    </tr>\n",
       "    <tr>\n",
       "      <th>6362612</th>\n",
       "      <td>743</td>\n",
       "      <td>TRANSFER</td>\n",
       "      <td>1258818.82</td>\n",
       "      <td>C1531301470</td>\n",
       "      <td>1258818.82</td>\n",
       "      <td>0.0</td>\n",
       "      <td>C1470998563</td>\n",
       "      <td>0.00</td>\n",
       "      <td>0.00</td>\n",
       "      <td>1</td>\n",
       "      <td>0</td>\n",
       "    </tr>\n",
       "    <tr>\n",
       "      <th>6362613</th>\n",
       "      <td>743</td>\n",
       "      <td>CASH_OUT</td>\n",
       "      <td>1258818.82</td>\n",
       "      <td>C1436118706</td>\n",
       "      <td>1258818.82</td>\n",
       "      <td>0.0</td>\n",
       "      <td>C1240760502</td>\n",
       "      <td>503464.50</td>\n",
       "      <td>1762283.33</td>\n",
       "      <td>1</td>\n",
       "      <td>0</td>\n",
       "    </tr>\n",
       "    <tr>\n",
       "      <th>6362614</th>\n",
       "      <td>743</td>\n",
       "      <td>TRANSFER</td>\n",
       "      <td>339682.13</td>\n",
       "      <td>C2013999242</td>\n",
       "      <td>339682.13</td>\n",
       "      <td>0.0</td>\n",
       "      <td>C1850423904</td>\n",
       "      <td>0.00</td>\n",
       "      <td>0.00</td>\n",
       "      <td>1</td>\n",
       "      <td>0</td>\n",
       "    </tr>\n",
       "    <tr>\n",
       "      <th>6362615</th>\n",
       "      <td>743</td>\n",
       "      <td>CASH_OUT</td>\n",
       "      <td>339682.13</td>\n",
       "      <td>C786484425</td>\n",
       "      <td>339682.13</td>\n",
       "      <td>0.0</td>\n",
       "      <td>C776919290</td>\n",
       "      <td>0.00</td>\n",
       "      <td>339682.13</td>\n",
       "      <td>1</td>\n",
       "      <td>0</td>\n",
       "    </tr>\n",
       "    <tr>\n",
       "      <th>6362616</th>\n",
       "      <td>743</td>\n",
       "      <td>TRANSFER</td>\n",
       "      <td>6311409.28</td>\n",
       "      <td>C1529008245</td>\n",
       "      <td>6311409.28</td>\n",
       "      <td>0.0</td>\n",
       "      <td>C1881841831</td>\n",
       "      <td>0.00</td>\n",
       "      <td>0.00</td>\n",
       "      <td>1</td>\n",
       "      <td>0</td>\n",
       "    </tr>\n",
       "    <tr>\n",
       "      <th>6362617</th>\n",
       "      <td>743</td>\n",
       "      <td>CASH_OUT</td>\n",
       "      <td>6311409.28</td>\n",
       "      <td>C1162922333</td>\n",
       "      <td>6311409.28</td>\n",
       "      <td>0.0</td>\n",
       "      <td>C1365125890</td>\n",
       "      <td>68488.84</td>\n",
       "      <td>6379898.11</td>\n",
       "      <td>1</td>\n",
       "      <td>0</td>\n",
       "    </tr>\n",
       "    <tr>\n",
       "      <th>6362618</th>\n",
       "      <td>743</td>\n",
       "      <td>TRANSFER</td>\n",
       "      <td>850002.52</td>\n",
       "      <td>C1685995037</td>\n",
       "      <td>850002.52</td>\n",
       "      <td>0.0</td>\n",
       "      <td>C2080388513</td>\n",
       "      <td>0.00</td>\n",
       "      <td>0.00</td>\n",
       "      <td>1</td>\n",
       "      <td>0</td>\n",
       "    </tr>\n",
       "    <tr>\n",
       "      <th>6362619</th>\n",
       "      <td>743</td>\n",
       "      <td>CASH_OUT</td>\n",
       "      <td>850002.52</td>\n",
       "      <td>C1280323807</td>\n",
       "      <td>850002.52</td>\n",
       "      <td>0.0</td>\n",
       "      <td>C873221189</td>\n",
       "      <td>6510099.11</td>\n",
       "      <td>7360101.63</td>\n",
       "      <td>1</td>\n",
       "      <td>0</td>\n",
       "    </tr>\n",
       "  </tbody>\n",
       "</table>\n",
       "</div>"
      ],
      "text/plain": [
       "         step      type      amount     nameOrig  oldbalanceOrg  \\\n",
       "6362610   742  TRANSFER    63416.99   C778071008       63416.99   \n",
       "6362611   742  CASH_OUT    63416.99   C994950684       63416.99   \n",
       "6362612   743  TRANSFER  1258818.82  C1531301470     1258818.82   \n",
       "6362613   743  CASH_OUT  1258818.82  C1436118706     1258818.82   \n",
       "6362614   743  TRANSFER   339682.13  C2013999242      339682.13   \n",
       "6362615   743  CASH_OUT   339682.13   C786484425      339682.13   \n",
       "6362616   743  TRANSFER  6311409.28  C1529008245     6311409.28   \n",
       "6362617   743  CASH_OUT  6311409.28  C1162922333     6311409.28   \n",
       "6362618   743  TRANSFER   850002.52  C1685995037      850002.52   \n",
       "6362619   743  CASH_OUT   850002.52  C1280323807      850002.52   \n",
       "\n",
       "         newbalanceOrig     nameDest  oldbalanceDest  newbalanceDest  isFraud  \\\n",
       "6362610             0.0  C1812552860            0.00            0.00        1   \n",
       "6362611             0.0  C1662241365       276433.18       339850.17        1   \n",
       "6362612             0.0  C1470998563            0.00            0.00        1   \n",
       "6362613             0.0  C1240760502       503464.50      1762283.33        1   \n",
       "6362614             0.0  C1850423904            0.00            0.00        1   \n",
       "6362615             0.0   C776919290            0.00       339682.13        1   \n",
       "6362616             0.0  C1881841831            0.00            0.00        1   \n",
       "6362617             0.0  C1365125890        68488.84      6379898.11        1   \n",
       "6362618             0.0  C2080388513            0.00            0.00        1   \n",
       "6362619             0.0   C873221189      6510099.11      7360101.63        1   \n",
       "\n",
       "         isFlaggedFraud  \n",
       "6362610               0  \n",
       "6362611               0  \n",
       "6362612               0  \n",
       "6362613               0  \n",
       "6362614               0  \n",
       "6362615               0  \n",
       "6362616               0  \n",
       "6362617               0  \n",
       "6362618               0  \n",
       "6362619               0  "
      ]
     },
     "execution_count": 6,
     "metadata": {},
     "output_type": "execute_result"
    }
   ],
   "source": [
    "df.tail(10)"
   ]
  },
  {
   "cell_type": "code",
   "execution_count": 7,
   "id": "e1811ab5-18b4-4d1b-adc4-6599ec35d77b",
   "metadata": {
    "panel-layout": {
     "height": 0,
     "visible": true,
     "width": 100
    }
   },
   "outputs": [
    {
     "name": "stdout",
     "output_type": "stream",
     "text": [
      "Dataset shape:(6362620, 11)\n"
     ]
    }
   ],
   "source": [
    "print(f\"Dataset shape:{df.shape}\")\n"
   ]
  },
  {
   "cell_type": "code",
   "execution_count": 8,
   "id": "f3c04b02-29ab-4af9-ab6f-d9bf1758e092",
   "metadata": {
    "panel-layout": {
     "height": 0,
     "visible": true,
     "width": 100
    }
   },
   "outputs": [
    {
     "name": "stdout",
     "output_type": "stream",
     "text": [
      "<class 'pandas.core.frame.DataFrame'>\n",
      "RangeIndex: 6362620 entries, 0 to 6362619\n",
      "Data columns (total 11 columns):\n",
      " #   Column          Dtype  \n",
      "---  ------          -----  \n",
      " 0   step            int64  \n",
      " 1   type            object \n",
      " 2   amount          float64\n",
      " 3   nameOrig        object \n",
      " 4   oldbalanceOrg   float64\n",
      " 5   newbalanceOrig  float64\n",
      " 6   nameDest        object \n",
      " 7   oldbalanceDest  float64\n",
      " 8   newbalanceDest  float64\n",
      " 9   isFraud         int64  \n",
      " 10  isFlaggedFraud  int64  \n",
      "dtypes: float64(5), int64(3), object(3)\n",
      "memory usage: 534.0+ MB\n"
     ]
    }
   ],
   "source": [
    "df.info()"
   ]
  },
  {
   "cell_type": "markdown",
   "id": "396e4b52-056e-4f5c-bc30-d1c60d20273c",
   "metadata": {
    "panel-layout": {
     "height": 60.583335876464844,
     "visible": true,
     "width": 100
    }
   },
   "source": [
    "# Fraud Occurrence by Transaction Type"
   ]
  },
  {
   "cell_type": "code",
   "execution_count": 10,
   "id": "f8dff7e2-5295-47bd-bd85-a9f0169d1241",
   "metadata": {
    "panel-layout": {
     "height": 701,
     "visible": true,
     "width": 100
    }
   },
   "outputs": [
    {
     "data": {
      "image/png": "[encoded data removed]",
      "text/plain": [
       "<Figure size 640x480 with 1 Axes>"
      ]
     },
     "metadata": {},
     "output_type": "display_data"
    }
   ],
   "source": [
    "sns.countplot(data=df, x=\"type\")\n",
    "plt.title(\"Fraud Occurrence by Transaction Type\")\n",
    "plt.xlabel(\"Transaction Type\")\n",
    "plt.ylabel(\"Count\")\n",
    "plt.xticks(rotation=45)\n",
    "plt.show()\n"
   ]
  },
  {
   "cell_type": "markdown",
   "id": "88f285cd-e678-4c63-a266-0d7fea44d053",
   "metadata": {
    "panel-layout": {
     "height": 84.40277862548828,
     "visible": true,
     "width": 100
    }
   },
   "source": [
    "##  Model and Pipeline Filenames\n",
    "These files will be used to save and load trained models and preprocessing logic."
   ]
  },
  {
   "cell_type": "code",
   "execution_count": 12,
   "id": "b7840a74-3ef0-4182-8181-120a2e602612",
   "metadata": {},
   "outputs": [],
   "source": [
    "MODEL_FILE = \"fraud_model.pkl\"\n",
    "PIPELINE_FILE = \"fraud_pipeline.pkl\""
   ]
  },
  {
   "cell_type": "markdown",
   "id": "3a82d4b0-641b-4908-b4db-ac325e711c3b",
   "metadata": {
    "panel-layout": {
     "height": 84.40277862548828,
     "visible": true,
     "width": 100
    }
   },
   "source": [
    "## Preprocessing Pipeline\n",
    "We construct separate pipelines for numerical and categorical features."
   ]
  },
  {
   "cell_type": "code",
   "execution_count": 14,
   "id": "f6e79632-335f-49ea-bc8d-a42165a5b6a3",
   "metadata": {},
   "outputs": [],
   "source": [
    "def build_pipeline(numerical_features,categorical_features):\n",
    "\n",
    "    num_pipeline = Pipeline([\n",
    "        (\"imputer\",SimpleImputer(strategy=\"median\")),\n",
    "        (\"scaler\",StandardScaler())\n",
    "    ])\n",
    "    cat_pipeline = Pipeline([\n",
    "        (\"onehot\",OneHotEncoder(handle_unknown=\"ignore\"))\n",
    "    ])\n",
    "    return ColumnTransformer([\n",
    "        (\"num\",num_pipeline,numerical_features),\n",
    "        (\"cat\",cat_pipeline,categorical_features)\n",
    "    ])"
   ]
  },
  {
   "cell_type": "markdown",
   "id": "6ce1f6d9-6257-4ff8-b5f4-87c70cbe5152",
   "metadata": {
    "panel-layout": {
     "height": 267.7916564941406,
     "visible": true,
     "width": 100
    }
   },
   "source": [
    "## Train Model (if not already saved)\n",
    "Loads the fraud dataset, performs stratified splitting based on amount, and trains the classifier.\n",
    "- Check if model exists\n",
    "If not found, the script starts training from scratch.\n",
    "- Prepare the dataset\n",
    "Load 5,000 rows, clean missing values, stratify by amount, then split into train/test using stratified sampling.\n",
    "- Train the model\n",
    "Preprocess features using a pipeline and fit a RandomForestClassifier on the training data.\n",
    "- Save components\n",
    "Export the trained model and pipeline using joblib, and store the test set in input.csv for later use.\n",
    "- Make predictions if model exists\n",
    "Load saved model, pipeline, and input data; transform the data, run predictions, and save results to output.csv.\n"
   ]
  },
  {
   "cell_type": "code",
   "execution_count": 19,
   "id": "b1094405-12d2-4f0e-94b7-c085eb2430a6",
   "metadata": {},
   "outputs": [
    {
     "name": "stdout",
     "output_type": "stream",
     "text": [
      "Inference complete. Output saved to output.csv\n"
     ]
    }
   ],
   "source": [
    "if not os.path.exists(MODEL_FILE):\n",
    "\n",
    "    #load dataset\n",
    "    df = pd.read_csv(\"Fraud.csv\")\n",
    "\n",
    "    # Drop rows where 'amount' or 'isFraud' is missing\n",
    "    df = df.dropna(subset=[\"amount\", \"isFraud\"])\n",
    "\n",
    "    # Reset index to avoid KeyError during sampling\n",
    "    df.reset_index(drop=True, inplace=True)\n",
    "\n",
    "\n",
    "    #create stratified amount \n",
    "    df[\"amount_group\"] = pd.cut(df[\"amount\"], bins=[0, 50, 200, 500, 2000, np.inf],\n",
    "                                labels=[1, 2, 3, 4, 5])\n",
    "    df = df.dropna(subset=[\"amount_group\"])\n",
    "    print(\"Amount_gruop Create Successfully... \")\n",
    "    \n",
    "    # Perform stratified sampling\n",
    "    splitter = StratifiedShuffleSplit(n_splits=1, test_size=0.2, random_state=42)\n",
    "    for train_idx, test_idx in splitter.split(df, df[\"amount_group\"]):\n",
    "        train_set = df.iloc[train_idx].drop(\"amount_group\", axis=1)\n",
    "        test_set = df.iloc[test_idx].drop(\"amount_group\", axis=1)\n",
    "\n",
    "    # Save test set for inference\n",
    "    test_set.to_csv(\"input.csv\", index=False)\n",
    "\n",
    "    # Separate labels and features\n",
    "    y_train = train_set[\"isFraud\"].fillna(train_set[\"isFraud\"].mode()[0]).astype(int)\n",
    "    X_train = train_set.drop([\"isFraud\", \"isFlaggedFraud\"], axis=1)\n",
    "    print(\" Separate labels and features successfully....\")\n",
    "    \n",
    "    # Define feature categories\n",
    "    numeric_cols = [\"amount\", \"oldbalanceOrg\", \"newbalanceOrig\", \"oldbalanceDest\", \"newbalanceDest\"]\n",
    "    categorical_cols = [\"type\", \"nameOrig\", \"nameDest\"]\n",
    "\n",
    "     # Build pipeline and preprocess\n",
    "    pipeline = build_pipeline(numeric_cols, categorical_cols)\n",
    "    X_train_prepared = pipeline.fit_transform(X_train)\n",
    "    print(\" X_train_prepared Successfully\")\n",
    "\n",
    "    # Train classifier\n",
    "    model = RandomForestClassifier(random_state=42)\n",
    "    model.fit(X_train_prepared, y_train)\n",
    "    print(\"Model fit Successfully\")\n",
    "\n",
    "    # Save pipeline and model\n",
    "    joblib.dump(model, MODEL_FILE)\n",
    "    joblib.dump(pipeline, PIPELINE_FILE)\n",
    "\n",
    "    print(\"Model trained and saved.\")\n",
    "\n",
    "\n",
    "## Load Model and Predict\n",
    "#Saved model and pipeline are used to infer fraud probabilities on the test set.\n",
    "\n",
    "else:\n",
    "    #load saved model and pipeline\n",
    "    model = joblib.load(MODEL_FILE)\n",
    "    pipeline = joblib.load(PIPELINE_FILE) \n",
    "\n",
    "    #load test data\n",
    "    input_data = pd.read_csv(\"input.csv\")\n",
    "    X_input = input_data.drop([\"isFraud\",\"isFlaggedFraud\"],axis=1)\n",
    "    \n",
    "    #Transform data\n",
    "    X_transformed = pipeline.transform(X_input)\n",
    "\n",
    "    #Make prediction\n",
    "    predictions = model.predict(X_transformed)\n",
    "    input_data[\"predicted_fraud\"] = predictions\n",
    "\n",
    "    #saved output\n",
    "    input_data.to_csv(\"output.csv\",index=False)\n",
    "    print(\"Inference complete. Output saved to output.csv\")\n",
    "\n"
   ]
  },
  {
   "cell_type": "markdown",
   "id": "bea93a32-899c-45b5-9a23-3dfe3284a9ca",
   "metadata": {
    "panel-layout": {
     "height": 84.40277862548828,
     "visible": true,
     "width": 100
    }
   },
   "source": [
    "## Model Evaluation\n",
    "We assess accuracy, ROC-AUC."
   ]
  },
  {
   "cell_type": "code",
   "execution_count": 25,
   "id": "97101110-7f25-43c4-9242-1dbad1da720b",
   "metadata": {
    "panel-layout": {
     "height": 701,
     "visible": true,
     "width": 100
    }
   },
   "outputs": [
    {
     "name": "stdout",
     "output_type": "stream",
     "text": [
      "Model Accuracy on Test Set: 0.9800\n"
     ]
    }
   ],
   "source": [
    "# Load true labels from test set\n",
    "y_true = input_data[\"isFraud\"].astype(int)\n",
    "\n",
    "# Compare with predictions\n",
    "accuracy = accuracy_score(y_true, predictions)\n",
    "\n",
    "print(f\"Model Accuracy on Test Set: {accuracy:.4f}\")"
   ]
  },
  {
   "cell_type": "raw",
   "id": "b48d2dc2-053a-4320-8d95-8814af4c0581",
   "metadata": {},
   "source": [
    "This notebook successfully:\n",
    "- Processed transaction data using ColumnTransformer\n",
    "- Trained a fraud classification model with RandomForest\n",
    "- Saved reusable artifacts with joblib\n",
    "- Predicted fraud labels on unseen test data\n",
    "\n",
    "Next steps could include:\n",
    "- Model evaluation metrics\n",
    "- Feature importance plots\n",
    "- Deploying to an app or dashboard"
   ]
  },
  {
   "cell_type": "code",
   "execution_count": null,
   "id": "0d874304-e75e-45e8-83b8-ba4bb02106bd",
   "metadata": {},
   "outputs": [],
   "source": []
  }
 ],
 "metadata": {
  "kernelspec": {
   "display_name": "Python [conda env:base] *",
   "language": "python",
   "name": "conda-base-py"
  },
  "language_info": {
   "codemirror_mode": {
    "name": "ipython",
    "version": 3
   },
   "file_extension": ".py",
   "mimetype": "text/x-python",
   "name": "python",
   "nbconvert_exporter": "python",
   "pygments_lexer": "ipython3",
   "version": "3.12.7"
  },
  "panel-cell-order": [
   "1d2aa94d-5bea-4974-8b04-c7108347d4b8",
   "b268e39d-cbae-44a1-bc78-af6c0b626b27",
   "5715f689-a31b-4cae-aa15-440cd62fc620",
   "1279332a-7994-49e3-a883-5571d735345b",
   "e1811ab5-18b4-4d1b-adc4-6599ec35d77b",
   "f3c04b02-29ab-4af9-ab6f-d9bf1758e092",
   "396e4b52-056e-4f5c-bc30-d1c60d20273c",
   "f8dff7e2-5295-47bd-bd85-a9f0169d1241",
   "88f285cd-e678-4c63-a266-0d7fea44d053",
   "3a82d4b0-641b-4908-b4db-ac325e711c3b",
   "6ce1f6d9-6257-4ff8-b5f4-87c70cbe5152",
   "bea93a32-899c-45b5-9a23-3dfe3284a9ca",
   "97101110-7f25-43c4-9242-1dbad1da720b"
  ]
 },
 "nbformat": 4,
 "nbformat_minor": 5
}
